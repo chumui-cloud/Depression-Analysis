{
 "cells": [
  {
   "cell_type": "code",
   "execution_count": 1,
   "id": "f2f2057b",
   "metadata": {},
   "outputs": [],
   "source": [
    "import pandas as pd\n",
    "import numpy as np\n",
    "df = pd.read_csv('ML_dataset.csv')"
   ]
  },
  {
   "cell_type": "code",
   "execution_count": 2,
   "id": "bea1cc2e",
   "metadata": {},
   "outputs": [],
   "source": [
    "from sklearn.preprocessing import LabelEncoder\n",
    "from sklearn import feature_selection\n",
    "from sklearn import model_selection\n",
    "from sklearn import metrics"
   ]
  },
  {
   "cell_type": "code",
   "execution_count": 3,
   "id": "d104e4c6",
   "metadata": {},
   "outputs": [],
   "source": [
    "df.drop('Timestamp', axis=1, inplace= True)\n",
    "df.drop('Your location ?', axis=1, inplace= True)\n",
    "df.drop('How are you feeling right now?', axis=1, inplace=True)"
   ]
  },
  {
   "cell_type": "code",
   "execution_count": 4,
   "id": "80818252",
   "metadata": {},
   "outputs": [],
   "source": [
    "label = LabelEncoder()\n",
    "df['year'] = label.fit_transform(df['Which year are you in?'])\n",
    "df['gender'] = label.fit_transform(df['Gender'])\n",
    "df['rel_status'] = label.fit_transform(df['Relationship status'])\n",
    "df['fin_state'] = label.fit_transform(df['Are you happy with your financial state?'])\n",
    "df['un_fam'] = label.fit_transform(df['Understanding with your family members?'])\n",
    "df['pressure'] = label.fit_transform(df['Are you feeling pressure in your study or work right now?'])\n",
    "df['result_sat'] = label.fit_transform(df['Are you satisfied with your academic result?'])\n",
    "df['living_place'] = label.fit_transform(df['Are you happy with your living place?'])\n",
    "df['support'] = label.fit_transform(df['Who supports you when you are not succeeding in your academic life?'])\n",
    "df['soc_media'] = label.fit_transform(df['Have you used any social media within the last 6 hours?'])\n",
    "df['inferior_complex'] = label.fit_transform(df['Do you have inferiority complex? '])\n",
    "df['meal'] = label.fit_transform(df['Are you satisfied with your meal today?'])\n",
    "df['health_issue'] = label.fit_transform(df['Are you feeling sick/health issues today?'])\n",
    "df['hobby'] = label.fit_transform(df['Have you done any recreational activity (sports, gaming, hobby etc.) today?'])"
   ]
  },
  {
   "cell_type": "code",
   "execution_count": 5,
   "id": "21b01c96",
   "metadata": {},
   "outputs": [],
   "source": [
    "df.drop(['Which year are you in?','Gender', 'Relationship status',\n",
    "       'Are you happy with your financial state?',\n",
    "       'Understanding with your family members?',\n",
    "       'Are you feeling pressure in your study or work right now?',\n",
    "       'Are you satisfied with your academic result?',\n",
    "       'Are you happy with your living place?',\n",
    "       'Who supports you when you are not succeeding in your academic life?',\n",
    "       'Have you used any social media within the last 6 hours?',\n",
    "       'Do you have inferiority complex? ',\n",
    "       'Are you satisfied with your meal today?',\n",
    "       'Are you feeling sick/health issues today?',\n",
    "       'Have you done any recreational activity (sports, gaming, hobby etc.) today?',\n",
    "       ], axis=1, inplace=True)"
   ]
  },
  {
   "cell_type": "code",
   "execution_count": 6,
   "id": "86b4e5d6",
   "metadata": {},
   "outputs": [
    {
     "name": "stdout",
     "output_type": "stream",
     "text": [
      "<class 'pandas.core.frame.DataFrame'>\n",
      "RangeIndex: 400 entries, 0 to 399\n",
      "Data columns (total 18 columns):\n",
      " #   Column                                                                                        Non-Null Count  Dtype  \n",
      "---  ------                                                                                        --------------  -----  \n",
      " 0   On a scale of 1-100, how would you express this feeling?                                      400 non-null    int64  \n",
      " 1   Age                                                                                           400 non-null    int64  \n",
      " 2   How much have you succeeded to cope up with the environment of your educational institution?  400 non-null    int64  \n",
      " 3   How long did you sleep last night?(in hours)                                                  400 non-null    float64\n",
      " 4   year                                                                                          400 non-null    int32  \n",
      " 5   gender                                                                                        400 non-null    int32  \n",
      " 6   rel_status                                                                                    400 non-null    int32  \n",
      " 7   fin_state                                                                                     400 non-null    int32  \n",
      " 8   un_fam                                                                                        400 non-null    int32  \n",
      " 9   pressure                                                                                      400 non-null    int32  \n",
      " 10  result_sat                                                                                    400 non-null    int32  \n",
      " 11  living_place                                                                                  400 non-null    int32  \n",
      " 12  support                                                                                       400 non-null    int32  \n",
      " 13  soc_media                                                                                     400 non-null    int32  \n",
      " 14  inferior_complex                                                                              400 non-null    int32  \n",
      " 15  meal                                                                                          400 non-null    int32  \n",
      " 16  health_issue                                                                                  400 non-null    int32  \n",
      " 17  hobby                                                                                         400 non-null    int32  \n",
      "dtypes: float64(1), int32(14), int64(3)\n",
      "memory usage: 34.5 KB\n"
     ]
    }
   ],
   "source": [
    "df.info()"
   ]
  },
  {
   "cell_type": "code",
   "execution_count": 7,
   "id": "638b0184",
   "metadata": {},
   "outputs": [],
   "source": [
    "df.rename(columns={'Age':'age','How long did you sleep last night?(in hours)':'sleep','How much have you succeeded to cope up with the environment of your educational institution?':'cope_with_ins', 'On a scale of 1-100, how would you express this feeling?':'feelings_scale'}, inplace=True)"
   ]
  },
  {
   "cell_type": "code",
   "execution_count": 8,
   "id": "6a773f84",
   "metadata": {},
   "outputs": [
    {
     "name": "stdout",
     "output_type": "stream",
     "text": [
      "<class 'pandas.core.frame.DataFrame'>\n",
      "RangeIndex: 400 entries, 0 to 399\n",
      "Data columns (total 18 columns):\n",
      " #   Column            Non-Null Count  Dtype  \n",
      "---  ------            --------------  -----  \n",
      " 0   feelings_scale    400 non-null    int64  \n",
      " 1   age               400 non-null    int64  \n",
      " 2   cope_with_ins     400 non-null    int64  \n",
      " 3   sleep             400 non-null    float64\n",
      " 4   year              400 non-null    int32  \n",
      " 5   gender            400 non-null    int32  \n",
      " 6   rel_status        400 non-null    int32  \n",
      " 7   fin_state         400 non-null    int32  \n",
      " 8   un_fam            400 non-null    int32  \n",
      " 9   pressure          400 non-null    int32  \n",
      " 10  result_sat        400 non-null    int32  \n",
      " 11  living_place      400 non-null    int32  \n",
      " 12  support           400 non-null    int32  \n",
      " 13  soc_media         400 non-null    int32  \n",
      " 14  inferior_complex  400 non-null    int32  \n",
      " 15  meal              400 non-null    int32  \n",
      " 16  health_issue      400 non-null    int32  \n",
      " 17  hobby             400 non-null    int32  \n",
      "dtypes: float64(1), int32(14), int64(3)\n",
      "memory usage: 34.5 KB\n"
     ]
    }
   ],
   "source": [
    "df.info()"
   ]
  },
  {
   "cell_type": "code",
   "execution_count": 9,
   "id": "ba27dc00",
   "metadata": {},
   "outputs": [],
   "source": [
    "df_copy= df\n",
    "target = df_copy['feelings_scale']\n",
    "df_copy= df_copy.drop('feelings_scale', axis=1)\n",
    "from sklearn.model_selection import train_test_split"
   ]
  },
  {
   "cell_type": "code",
   "execution_count": 10,
   "id": "c7196d90",
   "metadata": {},
   "outputs": [
    {
     "data": {
      "text/plain": [
       "0.6618978049841925"
      ]
     },
     "execution_count": 10,
     "metadata": {},
     "output_type": "execute_result"
    }
   ],
   "source": [
    "X_train, X_test, Y_train,Y_test = train_test_split(df_copy,target, test_size=0.2, random_state=40)\n",
    "from sklearn.linear_model import LinearRegression\n",
    "reg = LinearRegression()\n",
    "reg.fit(X_train, Y_train)\n",
    "Y_pred = reg.predict(X_test)\n",
    "reg.score(X_test, Y_test)"
   ]
  },
  {
   "cell_type": "code",
   "execution_count": 15,
   "id": "25646323",
   "metadata": {},
   "outputs": [
    {
     "data": {
      "text/plain": [
       "172.8336158146431"
      ]
     },
     "execution_count": 15,
     "metadata": {},
     "output_type": "execute_result"
    }
   ],
   "source": [
    "from sklearn.metrics import mean_squared_error\n",
    "mean_squared_error(Y_test, Y_pred)\n"
   ]
  },
  {
   "cell_type": "code",
   "execution_count": null,
   "id": "7e571ef8",
   "metadata": {},
   "outputs": [],
   "source": []
  }
 ],
 "metadata": {
  "kernelspec": {
   "display_name": "Python 3 (ipykernel)",
   "language": "python",
   "name": "python3"
  },
  "language_info": {
   "codemirror_mode": {
    "name": "ipython",
    "version": 3
   },
   "file_extension": ".py",
   "mimetype": "text/x-python",
   "name": "python",
   "nbconvert_exporter": "python",
   "pygments_lexer": "ipython3",
   "version": "3.7.5"
  }
 },
 "nbformat": 4,
 "nbformat_minor": 5
}
